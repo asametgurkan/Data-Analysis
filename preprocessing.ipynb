{
 "cells": [
  {
   "cell_type": "code",
   "execution_count": 15,
   "metadata": {},
   "outputs": [],
   "source": [
    "import pandas as pd\n",
    "data=pd.read_table(\"/home/gurkan/Desktop/IBD Project/data/raw/metadata_anonymized.txt\")\n",
    "df=data.copy()"
   ]
  },
  {
   "cell_type": "code",
   "execution_count": 16,
   "metadata": {},
   "outputs": [],
   "source": [
    "# Some columns are not storing important information for diagnosis so they are deleted. \n",
    "\n",
    "columns_to_drop=[\"sample_id\",\"lat_lon\",\"env_package\",\"patient_id\",\"age_group\",\"BMI\",\"age_of_child\",\"time_of_veganism\"]\n",
    "df.drop(columns_to_drop,axis=1,inplace=True)\n",
    "\n",
    "# There were a column with \"income,1<1000,2<4000,3<8000,4>8000\" title, it converted to \"Income\".\n",
    "\n",
    "df.rename(columns={\"income,1<1000,2<4000,3<8000,4>8000\": \"Income\"}, inplace=True)"
   ]
  },
  {
   "cell_type": "code",
   "execution_count": 17,
   "metadata": {},
   "outputs": [],
   "source": [
    "# Function that finds and deletes columns which have missing values above 50 per cent. If this function is not run, there \n",
    "# will be huge data loss in next function. \"aktif0_remisyon1\" and \"exposed_to_antibiotics\" columns thought to be important \n",
    "# for the diagnosis. They will be processed in next cell.  \n",
    "\n",
    "def del_missing_val(df):\n",
    "    column_list=[]\n",
    "    for column_name in df.columns:\n",
    "        if (df[column_name].isna().sum()/df[column_name].shape[0])*100>50:\n",
    "            column_list.append(column_name)\n",
    "            if column_name not in [\"aktif0_remisyon1\",\"exposed_to_antibiotics\"]:\n",
    "                df.drop(column_name,axis=1,inplace=True)\n",
    "del_missing_val(df)"
   ]
  },
  {
   "cell_type": "code",
   "execution_count": 18,
   "metadata": {},
   "outputs": [
    {
     "name": "stdout",
     "output_type": "stream",
     "text": [
      "First shape of data frame: (118, 45)\n",
      "Final shape of data frame: (85, 45)\n"
     ]
    }
   ],
   "source": [
    "# Delete rows that store missing values. In this process, df_to_clean was created, which does not contain columns that \n",
    "# must be filled. Rows that contained missing values were deleted, and indexes of rows that did not have missing values were stored.\n",
    "# Indexes of this cleaned DF and two target columns (aktif0_remisyon1,exposed_to_antibiotics) were concatenated.\n",
    "\n",
    "df_to_clean=df.drop([\"aktif0_remisyon1\",\"exposed_to_antibiotics\"],axis=1)\n",
    "indexes_with_missing_values = df_to_clean.index[df_to_clean.isnull().any(axis=1)]\n",
    "indexes_without_missing_values = df_to_clean.index.difference(indexes_with_missing_values)\n",
    "print(f\"First shape of data frame: {df_to_clean.shape}\")\n",
    "df_to_clean.dropna(inplace=True)\n",
    "print(f\"Final shape of data frame: {df_to_clean.shape}\")\n",
    "selected_rows = df.loc[indexes_without_missing_values, [\"aktif0_remisyon1\", \"exposed_to_antibiotics\"]]\n",
    "new_df=pd.concat([df_to_clean,selected_rows],axis=1)\n",
    "df=new_df.copy()\n"
   ]
  },
  {
   "cell_type": "code",
   "execution_count": 19,
   "metadata": {},
   "outputs": [
    {
     "name": "stdout",
     "output_type": "stream",
     "text": [
      "Binary Columns (Object): ['material', 'sample_type']\n",
      "Binary Columns (Numerical): ['city1_suburb2', 'exposed_to_animals', 'has_child', 'has_infection', 'has_diharrea', 'has_constipation', 'has_swelling', 'has_nausea', 'has_weight_loss', 'has_vomiting', 'has_malaise', 'has_skin_eruption', 'has_loss_of_appetite', 'has_fever', 'is_extravert', 'is_intravert', 'is_easy_going', 'is_competitive', 'is_impulsive', 'has_insomnia', 'antipsychotic_exposure', 'barbecue', 'eastern_food', 'veggy_food', 'eats_junk_food', 'has_food_allergies', 'drinks_soda', 'drinks_alcohol', 'exercises', 'aktif0_remisyon1', 'exposed_to_antibiotics']\n",
      "Non-Binary Columns: ['category', 'diagnosis', 'age', 'gender', 'occupation', 'height', 'weight', 'BMI_type', 'Income', 'number of childrens', 'homemade_dishes', 'fastfood', 'frozen_food']\n"
     ]
    }
   ],
   "source": [
    "# A function for classifying columns by their data types for encoding process.\n",
    "def data_type_categories(df):\n",
    "    column_list_binary_numeric=[]\n",
    "    column_list_binary_object=[]\n",
    "    column_list_non_binary=[]\n",
    "    for column_name in list(df.columns):\n",
    "        if df[column_name].value_counts().shape[0]==2 and (df[column_name].dtype==float or df[column_name].dtype==int):\n",
    "            column_list_binary_numeric.append(column_name)\n",
    "        elif df[column_name].value_counts().shape[0]==2 and df[column_name].dtype==object:\n",
    "            column_list_binary_object.append(column_name)\n",
    "        elif df[column_name].value_counts().shape[0]>2:\n",
    "            column_list_non_binary.append(column_name)\n",
    "    print(f\"Binary Columns (Object): {column_list_binary_object}\")\n",
    "    print(f\"Binary Columns (Numerical): {column_list_binary_numeric}\")\n",
    "    print(f\"Non-Binary Columns: {column_list_non_binary}\")\n",
    "data_type_categories(df)"
   ]
  },
  {
   "cell_type": "code",
   "execution_count": 20,
   "metadata": {},
   "outputs": [],
   "source": [
    "# One-Hot encoding process. The last columns in the created dummy dataframes were deleted before concatenating.\n",
    "\n",
    "one_hot_list=[\"category\",\"gender\",\"material\",\"sample_type\"]\n",
    "def one_hot_encoder(df, column_list):\n",
    "        for column_name in column_list:\n",
    "                one_hot_encoded = pd.get_dummies(df[column_name], prefix=column_name)\n",
    "                one_hot_encoded = one_hot_encoded.astype(float)\n",
    "                one_hot_encoded=one_hot_encoded.iloc[:,:-1]\n",
    "                df = pd.concat([one_hot_encoded, df], axis=1)\n",
    "                df.drop(column_name, axis=1, inplace=True)\n",
    "        return df\n",
    "df = one_hot_encoder(df, one_hot_list)"
   ]
  },
  {
   "cell_type": "code",
   "execution_count": 21,
   "metadata": {},
   "outputs": [
    {
     "name": "stdout",
     "output_type": "stream",
     "text": [
      "Values before encoding: \n",
      " ['laborer' 'pensioner' 'security_guard' 'house_wife' 'nurse' 'student'\n",
      " 'control' 'quality_control_specialist' 'civil_worker' 'medical_doctor'\n",
      " 'lawyer' 'sports_coach' 'economist' 'teacher' 'programmer' 'mechanic'\n",
      " 'engineer' 'banker' 'cleaner' 'assistant' 'soldier' 'technician'\n",
      " 'serbest' 'freelancer' 'musician' 'artist' 'advertiser' 'lecturer'\n",
      " 'exporter' 'script_writer' 'cleric' 'fireman']\n",
      "Values after categorical encoding: \n",
      "['Active' 'Passive' 'Semi-Active']\n",
      "Values after ordinal encoding: \n",
      "[2. 0. 1.]\n"
     ]
    }
   ],
   "source": [
    "# Ordinal encoding process for \"occupation\" column.\n",
    "\n",
    "active_occup=[\"laborer\",\"civil_worker\",\"soldier\",\"nurse\",\"sports_coach\",\"fireman\"]\n",
    "semi_active_occup=[\"security_guard\",\"quality_control_specialist\",\"teacher\",\"mechanic\",\"serbest\",\"control\",\"cleaner\",\"technician\"]\n",
    "passive_occup=[\"pensioner\",\"student\",\"economist\",\"banker\",\"assistant\",\"freelancer\",\"medical_doctor\",\"lecturer\",\"house_wife\",\"lawyer\",\n",
    "               \"programmer\",\"engineer\",\"musician\",\"artist\",\"advertiser\",\"exporter\",\"script_writer\",\"cleric\"]\n",
    "\n",
    "print(f\"Values before encoding: \\n {df.occupation.unique()}\")\n",
    "for job_name in active_occup:\n",
    "    df.loc[df[\"occupation\"].str.contains(job_name,case=False),\"occupation\"]=\"Active\"\n",
    "for job_name in semi_active_occup:\n",
    "    df.loc[df[\"occupation\"].str.contains(job_name,case=False),\"occupation\"]=\"Semi-Active\"\n",
    "for job_name in passive_occup:\n",
    "    df.loc[df[\"occupation\"].str.contains(job_name,case=False),\"occupation\"]=\"Passive\"\n",
    "print(f\"Values after categorical encoding: \\n{df.occupation.unique()}\")\n",
    "\n",
    "def ordinal_encoder(dataframe,column_name):\n",
    "    from sklearn.preprocessing import OrdinalEncoder\n",
    "    data = dataframe[column_name].values.reshape(-1, 1)\n",
    "    ordinal_encoder = OrdinalEncoder(categories=[['Passive', 'Semi-Active', 'Active']])\n",
    "    encoded_data = ordinal_encoder.fit_transform(data)\n",
    "    dataframe[f\"{column_name}_enc\"] = encoded_data\n",
    "    dataframe.drop(column_name,axis=1,inplace=True)\n",
    "ordinal_encoder(df,\"occupation\")\n",
    "print(f\"Values after ordinal encoding: \\n{df.occupation_enc.unique()}\")"
   ]
  },
  {
   "cell_type": "code",
   "execution_count": 22,
   "metadata": {},
   "outputs": [],
   "source": [
    "# Ordinal encoding process for \"BMI_type\" column.\n",
    "def ordinal_encoder(dataframe,column_name):\n",
    "    from sklearn.preprocessing import OrdinalEncoder\n",
    "    data = dataframe[column_name].values.reshape(-1, 1)\n",
    "    ordinal_encoder = OrdinalEncoder(categories=[['underweight', 'normal', 'overweight', 'severe obese','obese']])\n",
    "    encoded_data = ordinal_encoder.fit_transform(data)\n",
    "    dataframe[f\"{column_name}_enc\"] = encoded_data\n",
    "    dataframe.drop(column_name,axis=1,inplace=True)\n",
    "ordinal_encoder(df,\"BMI_type\")"
   ]
  },
  {
   "cell_type": "code",
   "execution_count": 23,
   "metadata": {},
   "outputs": [],
   "source": [
    "# Scaling process for columns that store continous values.\n",
    "from sklearn.preprocessing import StandardScaler, MinMaxScaler\n",
    "continuous_cols=[\"weight\",\"height\",\"age\"]\n",
    "scaler = StandardScaler()\n",
    "df[continuous_cols] = scaler.fit_transform(df[continuous_cols])\n",
    "scaler = MinMaxScaler()\n",
    "df[continuous_cols] = scaler.fit_transform(df[continuous_cols])"
   ]
  },
  {
   "cell_type": "code",
   "execution_count": 24,
   "metadata": {},
   "outputs": [],
   "source": [
    "def ordinal_encoder(dataframe,column_name):\n",
    "    from sklearn.preprocessing import OrdinalEncoder\n",
    "    data = dataframe[column_name].values.reshape(-1, 1)\n",
    "    ordinal_encoder = OrdinalEncoder(categories=[['0', 'UC', 'CD']])\n",
    "    encoded_data = ordinal_encoder.fit_transform(data)\n",
    "    dataframe[f\"{column_name}_enc\"] = encoded_data\n",
    "    dataframe.drop(column_name,axis=1,inplace=True)\n",
    "ordinal_encoder(df,\"diagnosis\")"
   ]
  },
  {
   "cell_type": "markdown",
   "metadata": {},
   "source": [
    "# Finding NaN Values "
   ]
  },
  {
   "cell_type": "markdown",
   "metadata": {},
   "source": [
    "aktif0_remisyon1"
   ]
  },
  {
   "cell_type": "code",
   "execution_count": 25,
   "metadata": {},
   "outputs": [],
   "source": [
    "df_active=df.drop(\"exposed_to_antibiotics\",axis=1)\n",
    "\n",
    "indexes_with_missing_values = df_active.index[df_active.isnull().any(axis=1)]\n",
    "indexes_without_missing_values = df_active.index.difference(indexes_with_missing_values)\n",
    "\n",
    "train_df=df_active.loc[indexes_without_missing_values]\n",
    "test_df=df_active.loc[indexes_with_missing_values]\n",
    "\n",
    "X_train=train_df.drop(\"aktif0_remisyon1\",axis=1)\n",
    "y_train=train_df[\"aktif0_remisyon1\"]\n",
    "X_test=test_df.drop(\"aktif0_remisyon1\",axis=1)\n",
    "\n",
    "from sklearn.neighbors import KNeighborsClassifier\n",
    "knn=KNeighborsClassifier()\n",
    "predictions=knn.fit(X_train,y_train).predict(X_test)\n",
    "pred_series=pd.Series(predictions)\n",
    "\n",
    "missing_indices = df_active[df_active['aktif0_remisyon1'].isnull()].index\n",
    "imputed_values = {idx: pred for idx, pred in zip(missing_indices, predictions)}\n",
    "\n",
    "# Fill missing values in \"aktif0_remisyon1\" column with 'predictions'\n",
    "df_active[\"aktif0_remisyon1\"].fillna(imputed_values, inplace=True)\n",
    "new_active_col=df_active[\"aktif0_remisyon1\"]\n",
    "\n"
   ]
  },
  {
   "cell_type": "markdown",
   "metadata": {},
   "source": [
    "exposed_to_antibiotics"
   ]
  },
  {
   "cell_type": "code",
   "execution_count": 26,
   "metadata": {},
   "outputs": [],
   "source": [
    "df_antibiotics=df.drop(\"aktif0_remisyon1\",axis=1)\n",
    "\n",
    "indexes_with_missing_values = df_antibiotics.index[df_antibiotics.isnull().any(axis=1)]\n",
    "indexes_without_missing_values = df_antibiotics.index.difference(indexes_with_missing_values)\n",
    "\n",
    "train_df=df_antibiotics.loc[indexes_without_missing_values]\n",
    "test_df=df_antibiotics.loc[indexes_with_missing_values]\n",
    "\n",
    "X_train=train_df.drop(\"exposed_to_antibiotics\",axis=1)\n",
    "y_train=train_df[\"exposed_to_antibiotics\"]\n",
    "X_test=test_df.drop(\"exposed_to_antibiotics\",axis=1)\n",
    "\n",
    "from sklearn.neighbors import KNeighborsClassifier\n",
    "knn=KNeighborsClassifier()\n",
    "predictions=knn.fit(X_train,y_train).predict(X_test)\n",
    "pred_series=pd.Series(predictions)\n",
    "\n",
    "missing_indices = df_antibiotics[df_antibiotics['exposed_to_antibiotics'].isnull()].index\n",
    "imputed_values = {idx: pred for idx, pred in zip(missing_indices, predictions)}\n",
    "\n",
    "# Fill missing values in \"exposed_to_antibiotics\" column with 'predictions'\n",
    "df_antibiotics[\"exposed_to_antibiotics\"].fillna(imputed_values, inplace=True)\n",
    "new_antibiotics_col=df_antibiotics[\"exposed_to_antibiotics\"]\n"
   ]
  },
  {
   "cell_type": "code",
   "execution_count": 27,
   "metadata": {},
   "outputs": [],
   "source": [
    "filled_columns=pd.concat([new_active_col,new_antibiotics_col],axis=1)\n",
    "df=df.drop([\"exposed_to_antibiotics\",\"aktif0_remisyon1\"],axis=1)\n",
    "new_df=pd.concat([filled_columns,df],axis=1)"
   ]
  },
  {
   "cell_type": "code",
   "execution_count": 29,
   "metadata": {},
   "outputs": [],
   "source": [
    "df.to_csv(\"preprocessed_data.csv\",index=False)"
   ]
  }
 ],
 "metadata": {
  "kernelspec": {
   "display_name": "Python 3",
   "language": "python",
   "name": "python3"
  },
  "language_info": {
   "codemirror_mode": {
    "name": "ipython",
    "version": 3
   },
   "file_extension": ".py",
   "mimetype": "text/x-python",
   "name": "python",
   "nbconvert_exporter": "python",
   "pygments_lexer": "ipython3",
   "version": "3.10.6"
  },
  "orig_nbformat": 4
 },
 "nbformat": 4,
 "nbformat_minor": 2
}
